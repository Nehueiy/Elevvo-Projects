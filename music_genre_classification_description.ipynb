{
  "nbformat": 4,
  "nbformat_minor": 0,
  "metadata": {
    "colab": {
      "provenance": [],
      "authorship_tag": "ABX9TyMzE0pakjpdCKsICVtg98EK",
      "include_colab_link": true
    },
    "kernelspec": {
      "name": "python3",
      "display_name": "Python 3"
    },
    "language_info": {
      "name": "python"
    }
  },
  "cells": [
    {
      "cell_type": "markdown",
      "metadata": {
        "id": "view-in-github",
        "colab_type": "text"
      },
      "source": [
        "<a href=\"https://colab.research.google.com/github/Nehueiy/Elevvo-Projects/blob/main/music_genre_classification_description.ipynb\" target=\"_parent\"><img src=\"https://colab.research.google.com/assets/colab-badge.svg\" alt=\"Open In Colab\"/></a>"
      ]
    },
    {
      "cell_type": "code",
      "execution_count": 2,
      "metadata": {
        "colab": {
          "base_uri": "https://localhost:8080/"
        },
        "id": "Ht5SUX7UEXLo",
        "outputId": "94292731-56ad-49c8-9a8c-d3fd32106480"
      },
      "outputs": [
        {
          "output_type": "stream",
          "name": "stdout",
          "text": [
            "Downloading from https://www.kaggle.com/api/v1/datasets/download/andradaolteanu/gtzan-dataset-music-genre-classification?dataset_version_number=1...\n"
          ]
        },
        {
          "output_type": "stream",
          "name": "stderr",
          "text": [
            "100%|██████████| 1.21G/1.21G [00:11<00:00, 109MB/s]"
          ]
        },
        {
          "output_type": "stream",
          "name": "stdout",
          "text": [
            "Extracting files...\n"
          ]
        },
        {
          "output_type": "stream",
          "name": "stderr",
          "text": [
            "\n"
          ]
        },
        {
          "output_type": "stream",
          "name": "stdout",
          "text": [
            "Path to dataset files: /root/.cache/kagglehub/datasets/andradaolteanu/gtzan-dataset-music-genre-classification/versions/1\n"
          ]
        }
      ],
      "source": [
        "import kagglehub\n",
        "\n",
        "# Download latest version\n",
        "path = kagglehub.dataset_download(\"andradaolteanu/gtzan-dataset-music-genre-classification\")\n",
        "\n",
        "print(\"Path to dataset files:\", path)"
      ]
    },
    {
      "cell_type": "code",
      "source": [
        "import pandas as pd\n",
        "import os\n",
        "\n",
        "# Assuming the dataset downloaded in the previous cell is extracted into a directory\n",
        "# and the CSV file is located at 'gtzan-dataset-music-genre-classification/Data/features_30_sec.csv'\n",
        "csv_path = os.path.join(path, 'Data', 'features_30_sec.csv')\n",
        "\n",
        "# Load the CSV file into a pandas DataFrame\n",
        "try:\n",
        "    df = pd.read_csv(csv_path)\n",
        "    print(\"Dataset loaded successfully!\")\n",
        "    display(df.head())\n",
        "except FileNotFoundError:\n",
        "    print(f\"Error: The file {csv_path} was not found. Please check the path and try again.\")\n",
        "except Exception as e:\n",
        "    print(f\"An error occurred while loading the dataset: {e}\")"
      ],
      "metadata": {
        "colab": {
          "base_uri": "https://localhost:8080/",
          "height": 273
        },
        "id": "So_g_ETVEvfB",
        "outputId": "503d17f7-f80b-43f3-ed06-686c43c40a9b"
      },
      "execution_count": 4,
      "outputs": [
        {
          "output_type": "stream",
          "name": "stdout",
          "text": [
            "Dataset loaded successfully!\n"
          ]
        },
        {
          "output_type": "display_data",
          "data": {
            "text/plain": [
              "          filename  length  chroma_stft_mean  chroma_stft_var  rms_mean  \\\n",
              "0  blues.00000.wav  661794          0.350088         0.088757  0.130228   \n",
              "1  blues.00001.wav  661794          0.340914         0.094980  0.095948   \n",
              "2  blues.00002.wav  661794          0.363637         0.085275  0.175570   \n",
              "3  blues.00003.wav  661794          0.404785         0.093999  0.141093   \n",
              "4  blues.00004.wav  661794          0.308526         0.087841  0.091529   \n",
              "\n",
              "    rms_var  spectral_centroid_mean  spectral_centroid_var  \\\n",
              "0  0.002827             1784.165850          129774.064525   \n",
              "1  0.002373             1530.176679          375850.073649   \n",
              "2  0.002746             1552.811865          156467.643368   \n",
              "3  0.006346             1070.106615          184355.942417   \n",
              "4  0.002303             1835.004266          343399.939274   \n",
              "\n",
              "   spectral_bandwidth_mean  spectral_bandwidth_var  ...  mfcc16_var  \\\n",
              "0              2002.449060            85882.761315  ...   52.420910   \n",
              "1              2039.036516           213843.755497  ...   55.356403   \n",
              "2              1747.702312            76254.192257  ...   40.598766   \n",
              "3              1596.412872           166441.494769  ...   44.427753   \n",
              "4              1748.172116            88445.209036  ...   86.099236   \n",
              "\n",
              "   mfcc17_mean  mfcc17_var  mfcc18_mean  mfcc18_var  mfcc19_mean  mfcc19_var  \\\n",
              "0    -1.690215   36.524071    -0.408979   41.597103    -2.303523   55.062923   \n",
              "1    -0.731125   60.314529     0.295073   48.120598    -0.283518   51.106190   \n",
              "2    -7.729093   47.639427    -1.816407   52.382141    -3.439720   46.639660   \n",
              "3    -3.319597   50.206673     0.636965   37.319130    -0.619121   37.259739   \n",
              "4    -5.454034   75.269707    -0.916874   53.613918    -4.404827   62.910812   \n",
              "\n",
              "   mfcc20_mean  mfcc20_var  label  \n",
              "0     1.221291   46.936035  blues  \n",
              "1     0.531217   45.786282  blues  \n",
              "2    -2.231258   30.573025  blues  \n",
              "3    -3.407448   31.949339  blues  \n",
              "4   -11.703234   55.195160  blues  \n",
              "\n",
              "[5 rows x 60 columns]"
            ],
            "text/html": [
              "\n",
              "  <div id=\"df-b41d2931-4159-4ec4-bd3b-6d43faef6428\" class=\"colab-df-container\">\n",
              "    <div>\n",
              "<style scoped>\n",
              "    .dataframe tbody tr th:only-of-type {\n",
              "        vertical-align: middle;\n",
              "    }\n",
              "\n",
              "    .dataframe tbody tr th {\n",
              "        vertical-align: top;\n",
              "    }\n",
              "\n",
              "    .dataframe thead th {\n",
              "        text-align: right;\n",
              "    }\n",
              "</style>\n",
              "<table border=\"1\" class=\"dataframe\">\n",
              "  <thead>\n",
              "    <tr style=\"text-align: right;\">\n",
              "      <th></th>\n",
              "      <th>filename</th>\n",
              "      <th>length</th>\n",
              "      <th>chroma_stft_mean</th>\n",
              "      <th>chroma_stft_var</th>\n",
              "      <th>rms_mean</th>\n",
              "      <th>rms_var</th>\n",
              "      <th>spectral_centroid_mean</th>\n",
              "      <th>spectral_centroid_var</th>\n",
              "      <th>spectral_bandwidth_mean</th>\n",
              "      <th>spectral_bandwidth_var</th>\n",
              "      <th>...</th>\n",
              "      <th>mfcc16_var</th>\n",
              "      <th>mfcc17_mean</th>\n",
              "      <th>mfcc17_var</th>\n",
              "      <th>mfcc18_mean</th>\n",
              "      <th>mfcc18_var</th>\n",
              "      <th>mfcc19_mean</th>\n",
              "      <th>mfcc19_var</th>\n",
              "      <th>mfcc20_mean</th>\n",
              "      <th>mfcc20_var</th>\n",
              "      <th>label</th>\n",
              "    </tr>\n",
              "  </thead>\n",
              "  <tbody>\n",
              "    <tr>\n",
              "      <th>0</th>\n",
              "      <td>blues.00000.wav</td>\n",
              "      <td>661794</td>\n",
              "      <td>0.350088</td>\n",
              "      <td>0.088757</td>\n",
              "      <td>0.130228</td>\n",
              "      <td>0.002827</td>\n",
              "      <td>1784.165850</td>\n",
              "      <td>129774.064525</td>\n",
              "      <td>2002.449060</td>\n",
              "      <td>85882.761315</td>\n",
              "      <td>...</td>\n",
              "      <td>52.420910</td>\n",
              "      <td>-1.690215</td>\n",
              "      <td>36.524071</td>\n",
              "      <td>-0.408979</td>\n",
              "      <td>41.597103</td>\n",
              "      <td>-2.303523</td>\n",
              "      <td>55.062923</td>\n",
              "      <td>1.221291</td>\n",
              "      <td>46.936035</td>\n",
              "      <td>blues</td>\n",
              "    </tr>\n",
              "    <tr>\n",
              "      <th>1</th>\n",
              "      <td>blues.00001.wav</td>\n",
              "      <td>661794</td>\n",
              "      <td>0.340914</td>\n",
              "      <td>0.094980</td>\n",
              "      <td>0.095948</td>\n",
              "      <td>0.002373</td>\n",
              "      <td>1530.176679</td>\n",
              "      <td>375850.073649</td>\n",
              "      <td>2039.036516</td>\n",
              "      <td>213843.755497</td>\n",
              "      <td>...</td>\n",
              "      <td>55.356403</td>\n",
              "      <td>-0.731125</td>\n",
              "      <td>60.314529</td>\n",
              "      <td>0.295073</td>\n",
              "      <td>48.120598</td>\n",
              "      <td>-0.283518</td>\n",
              "      <td>51.106190</td>\n",
              "      <td>0.531217</td>\n",
              "      <td>45.786282</td>\n",
              "      <td>blues</td>\n",
              "    </tr>\n",
              "    <tr>\n",
              "      <th>2</th>\n",
              "      <td>blues.00002.wav</td>\n",
              "      <td>661794</td>\n",
              "      <td>0.363637</td>\n",
              "      <td>0.085275</td>\n",
              "      <td>0.175570</td>\n",
              "      <td>0.002746</td>\n",
              "      <td>1552.811865</td>\n",
              "      <td>156467.643368</td>\n",
              "      <td>1747.702312</td>\n",
              "      <td>76254.192257</td>\n",
              "      <td>...</td>\n",
              "      <td>40.598766</td>\n",
              "      <td>-7.729093</td>\n",
              "      <td>47.639427</td>\n",
              "      <td>-1.816407</td>\n",
              "      <td>52.382141</td>\n",
              "      <td>-3.439720</td>\n",
              "      <td>46.639660</td>\n",
              "      <td>-2.231258</td>\n",
              "      <td>30.573025</td>\n",
              "      <td>blues</td>\n",
              "    </tr>\n",
              "    <tr>\n",
              "      <th>3</th>\n",
              "      <td>blues.00003.wav</td>\n",
              "      <td>661794</td>\n",
              "      <td>0.404785</td>\n",
              "      <td>0.093999</td>\n",
              "      <td>0.141093</td>\n",
              "      <td>0.006346</td>\n",
              "      <td>1070.106615</td>\n",
              "      <td>184355.942417</td>\n",
              "      <td>1596.412872</td>\n",
              "      <td>166441.494769</td>\n",
              "      <td>...</td>\n",
              "      <td>44.427753</td>\n",
              "      <td>-3.319597</td>\n",
              "      <td>50.206673</td>\n",
              "      <td>0.636965</td>\n",
              "      <td>37.319130</td>\n",
              "      <td>-0.619121</td>\n",
              "      <td>37.259739</td>\n",
              "      <td>-3.407448</td>\n",
              "      <td>31.949339</td>\n",
              "      <td>blues</td>\n",
              "    </tr>\n",
              "    <tr>\n",
              "      <th>4</th>\n",
              "      <td>blues.00004.wav</td>\n",
              "      <td>661794</td>\n",
              "      <td>0.308526</td>\n",
              "      <td>0.087841</td>\n",
              "      <td>0.091529</td>\n",
              "      <td>0.002303</td>\n",
              "      <td>1835.004266</td>\n",
              "      <td>343399.939274</td>\n",
              "      <td>1748.172116</td>\n",
              "      <td>88445.209036</td>\n",
              "      <td>...</td>\n",
              "      <td>86.099236</td>\n",
              "      <td>-5.454034</td>\n",
              "      <td>75.269707</td>\n",
              "      <td>-0.916874</td>\n",
              "      <td>53.613918</td>\n",
              "      <td>-4.404827</td>\n",
              "      <td>62.910812</td>\n",
              "      <td>-11.703234</td>\n",
              "      <td>55.195160</td>\n",
              "      <td>blues</td>\n",
              "    </tr>\n",
              "  </tbody>\n",
              "</table>\n",
              "<p>5 rows × 60 columns</p>\n",
              "</div>\n",
              "    <div class=\"colab-df-buttons\">\n",
              "\n",
              "  <div class=\"colab-df-container\">\n",
              "    <button class=\"colab-df-convert\" onclick=\"convertToInteractive('df-b41d2931-4159-4ec4-bd3b-6d43faef6428')\"\n",
              "            title=\"Convert this dataframe to an interactive table.\"\n",
              "            style=\"display:none;\">\n",
              "\n",
              "  <svg xmlns=\"http://www.w3.org/2000/svg\" height=\"24px\" viewBox=\"0 -960 960 960\">\n",
              "    <path d=\"M120-120v-720h720v720H120Zm60-500h600v-160H180v160Zm220 220h160v-160H400v160Zm0 220h160v-160H400v160ZM180-400h160v-160H180v160Zm440 0h160v-160H620v160ZM180-180h160v-160H180v160Zm440 0h160v-160H620v160Z\"/>\n",
              "  </svg>\n",
              "    </button>\n",
              "\n",
              "  <style>\n",
              "    .colab-df-container {\n",
              "      display:flex;\n",
              "      gap: 12px;\n",
              "    }\n",
              "\n",
              "    .colab-df-convert {\n",
              "      background-color: #E8F0FE;\n",
              "      border: none;\n",
              "      border-radius: 50%;\n",
              "      cursor: pointer;\n",
              "      display: none;\n",
              "      fill: #1967D2;\n",
              "      height: 32px;\n",
              "      padding: 0 0 0 0;\n",
              "      width: 32px;\n",
              "    }\n",
              "\n",
              "    .colab-df-convert:hover {\n",
              "      background-color: #E2EBFA;\n",
              "      box-shadow: 0px 1px 2px rgba(60, 64, 67, 0.3), 0px 1px 3px 1px rgba(60, 64, 67, 0.15);\n",
              "      fill: #174EA6;\n",
              "    }\n",
              "\n",
              "    .colab-df-buttons div {\n",
              "      margin-bottom: 4px;\n",
              "    }\n",
              "\n",
              "    [theme=dark] .colab-df-convert {\n",
              "      background-color: #3B4455;\n",
              "      fill: #D2E3FC;\n",
              "    }\n",
              "\n",
              "    [theme=dark] .colab-df-convert:hover {\n",
              "      background-color: #434B5C;\n",
              "      box-shadow: 0px 1px 3px 1px rgba(0, 0, 0, 0.15);\n",
              "      filter: drop-shadow(0px 1px 2px rgba(0, 0, 0, 0.3));\n",
              "      fill: #FFFFFF;\n",
              "    }\n",
              "  </style>\n",
              "\n",
              "    <script>\n",
              "      const buttonEl =\n",
              "        document.querySelector('#df-b41d2931-4159-4ec4-bd3b-6d43faef6428 button.colab-df-convert');\n",
              "      buttonEl.style.display =\n",
              "        google.colab.kernel.accessAllowed ? 'block' : 'none';\n",
              "\n",
              "      async function convertToInteractive(key) {\n",
              "        const element = document.querySelector('#df-b41d2931-4159-4ec4-bd3b-6d43faef6428');\n",
              "        const dataTable =\n",
              "          await google.colab.kernel.invokeFunction('convertToInteractive',\n",
              "                                                    [key], {});\n",
              "        if (!dataTable) return;\n",
              "\n",
              "        const docLinkHtml = 'Like what you see? Visit the ' +\n",
              "          '<a target=\"_blank\" href=https://colab.research.google.com/notebooks/data_table.ipynb>data table notebook</a>'\n",
              "          + ' to learn more about interactive tables.';\n",
              "        element.innerHTML = '';\n",
              "        dataTable['output_type'] = 'display_data';\n",
              "        await google.colab.output.renderOutput(dataTable, element);\n",
              "        const docLink = document.createElement('div');\n",
              "        docLink.innerHTML = docLinkHtml;\n",
              "        element.appendChild(docLink);\n",
              "      }\n",
              "    </script>\n",
              "  </div>\n",
              "\n",
              "\n",
              "    <div id=\"df-1c714a52-74c0-453a-945f-03e572bb8051\">\n",
              "      <button class=\"colab-df-quickchart\" onclick=\"quickchart('df-1c714a52-74c0-453a-945f-03e572bb8051')\"\n",
              "                title=\"Suggest charts\"\n",
              "                style=\"display:none;\">\n",
              "\n",
              "<svg xmlns=\"http://www.w3.org/2000/svg\" height=\"24px\"viewBox=\"0 0 24 24\"\n",
              "     width=\"24px\">\n",
              "    <g>\n",
              "        <path d=\"M19 3H5c-1.1 0-2 .9-2 2v14c0 1.1.9 2 2 2h14c1.1 0 2-.9 2-2V5c0-1.1-.9-2-2-2zM9 17H7v-7h2v7zm4 0h-2V7h2v10zm4 0h-2v-4h2v4z\"/>\n",
              "    </g>\n",
              "</svg>\n",
              "      </button>\n",
              "\n",
              "<style>\n",
              "  .colab-df-quickchart {\n",
              "      --bg-color: #E8F0FE;\n",
              "      --fill-color: #1967D2;\n",
              "      --hover-bg-color: #E2EBFA;\n",
              "      --hover-fill-color: #174EA6;\n",
              "      --disabled-fill-color: #AAA;\n",
              "      --disabled-bg-color: #DDD;\n",
              "  }\n",
              "\n",
              "  [theme=dark] .colab-df-quickchart {\n",
              "      --bg-color: #3B4455;\n",
              "      --fill-color: #D2E3FC;\n",
              "      --hover-bg-color: #434B5C;\n",
              "      --hover-fill-color: #FFFFFF;\n",
              "      --disabled-bg-color: #3B4455;\n",
              "      --disabled-fill-color: #666;\n",
              "  }\n",
              "\n",
              "  .colab-df-quickchart {\n",
              "    background-color: var(--bg-color);\n",
              "    border: none;\n",
              "    border-radius: 50%;\n",
              "    cursor: pointer;\n",
              "    display: none;\n",
              "    fill: var(--fill-color);\n",
              "    height: 32px;\n",
              "    padding: 0;\n",
              "    width: 32px;\n",
              "  }\n",
              "\n",
              "  .colab-df-quickchart:hover {\n",
              "    background-color: var(--hover-bg-color);\n",
              "    box-shadow: 0 1px 2px rgba(60, 64, 67, 0.3), 0 1px 3px 1px rgba(60, 64, 67, 0.15);\n",
              "    fill: var(--button-hover-fill-color);\n",
              "  }\n",
              "\n",
              "  .colab-df-quickchart-complete:disabled,\n",
              "  .colab-df-quickchart-complete:disabled:hover {\n",
              "    background-color: var(--disabled-bg-color);\n",
              "    fill: var(--disabled-fill-color);\n",
              "    box-shadow: none;\n",
              "  }\n",
              "\n",
              "  .colab-df-spinner {\n",
              "    border: 2px solid var(--fill-color);\n",
              "    border-color: transparent;\n",
              "    border-bottom-color: var(--fill-color);\n",
              "    animation:\n",
              "      spin 1s steps(1) infinite;\n",
              "  }\n",
              "\n",
              "  @keyframes spin {\n",
              "    0% {\n",
              "      border-color: transparent;\n",
              "      border-bottom-color: var(--fill-color);\n",
              "      border-left-color: var(--fill-color);\n",
              "    }\n",
              "    20% {\n",
              "      border-color: transparent;\n",
              "      border-left-color: var(--fill-color);\n",
              "      border-top-color: var(--fill-color);\n",
              "    }\n",
              "    30% {\n",
              "      border-color: transparent;\n",
              "      border-left-color: var(--fill-color);\n",
              "      border-top-color: var(--fill-color);\n",
              "      border-right-color: var(--fill-color);\n",
              "    }\n",
              "    40% {\n",
              "      border-color: transparent;\n",
              "      border-right-color: var(--fill-color);\n",
              "      border-top-color: var(--fill-color);\n",
              "    }\n",
              "    60% {\n",
              "      border-color: transparent;\n",
              "      border-right-color: var(--fill-color);\n",
              "    }\n",
              "    80% {\n",
              "      border-color: transparent;\n",
              "      border-right-color: var(--fill-color);\n",
              "      border-bottom-color: var(--fill-color);\n",
              "    }\n",
              "    90% {\n",
              "      border-color: transparent;\n",
              "      border-bottom-color: var(--fill-color);\n",
              "    }\n",
              "  }\n",
              "</style>\n",
              "\n",
              "      <script>\n",
              "        async function quickchart(key) {\n",
              "          const quickchartButtonEl =\n",
              "            document.querySelector('#' + key + ' button');\n",
              "          quickchartButtonEl.disabled = true;  // To prevent multiple clicks.\n",
              "          quickchartButtonEl.classList.add('colab-df-spinner');\n",
              "          try {\n",
              "            const charts = await google.colab.kernel.invokeFunction(\n",
              "                'suggestCharts', [key], {});\n",
              "          } catch (error) {\n",
              "            console.error('Error during call to suggestCharts:', error);\n",
              "          }\n",
              "          quickchartButtonEl.classList.remove('colab-df-spinner');\n",
              "          quickchartButtonEl.classList.add('colab-df-quickchart-complete');\n",
              "        }\n",
              "        (() => {\n",
              "          let quickchartButtonEl =\n",
              "            document.querySelector('#df-1c714a52-74c0-453a-945f-03e572bb8051 button');\n",
              "          quickchartButtonEl.style.display =\n",
              "            google.colab.kernel.accessAllowed ? 'block' : 'none';\n",
              "        })();\n",
              "      </script>\n",
              "    </div>\n",
              "\n",
              "    </div>\n",
              "  </div>\n"
            ],
            "application/vnd.google.colaboratory.intrinsic+json": {
              "type": "dataframe"
            }
          },
          "metadata": {}
        }
      ]
    },
    {
      "cell_type": "code",
      "source": [
        "\n",
        "\n",
        "df.info()\n",
        ""
      ],
      "metadata": {
        "colab": {
          "base_uri": "https://localhost:8080/"
        },
        "id": "_KDOgV9rEyBg",
        "outputId": "ecd67788-4fc9-4d6e-f5de-3e5a53eef13e"
      },
      "execution_count": 5,
      "outputs": [
        {
          "output_type": "stream",
          "name": "stdout",
          "text": [
            "<class 'pandas.core.frame.DataFrame'>\n",
            "RangeIndex: 1000 entries, 0 to 999\n",
            "Data columns (total 60 columns):\n",
            " #   Column                   Non-Null Count  Dtype  \n",
            "---  ------                   --------------  -----  \n",
            " 0   filename                 1000 non-null   object \n",
            " 1   length                   1000 non-null   int64  \n",
            " 2   chroma_stft_mean         1000 non-null   float64\n",
            " 3   chroma_stft_var          1000 non-null   float64\n",
            " 4   rms_mean                 1000 non-null   float64\n",
            " 5   rms_var                  1000 non-null   float64\n",
            " 6   spectral_centroid_mean   1000 non-null   float64\n",
            " 7   spectral_centroid_var    1000 non-null   float64\n",
            " 8   spectral_bandwidth_mean  1000 non-null   float64\n",
            " 9   spectral_bandwidth_var   1000 non-null   float64\n",
            " 10  rolloff_mean             1000 non-null   float64\n",
            " 11  rolloff_var              1000 non-null   float64\n",
            " 12  zero_crossing_rate_mean  1000 non-null   float64\n",
            " 13  zero_crossing_rate_var   1000 non-null   float64\n",
            " 14  harmony_mean             1000 non-null   float64\n",
            " 15  harmony_var              1000 non-null   float64\n",
            " 16  perceptr_mean            1000 non-null   float64\n",
            " 17  perceptr_var             1000 non-null   float64\n",
            " 18  tempo                    1000 non-null   float64\n",
            " 19  mfcc1_mean               1000 non-null   float64\n",
            " 20  mfcc1_var                1000 non-null   float64\n",
            " 21  mfcc2_mean               1000 non-null   float64\n",
            " 22  mfcc2_var                1000 non-null   float64\n",
            " 23  mfcc3_mean               1000 non-null   float64\n",
            " 24  mfcc3_var                1000 non-null   float64\n",
            " 25  mfcc4_mean               1000 non-null   float64\n",
            " 26  mfcc4_var                1000 non-null   float64\n",
            " 27  mfcc5_mean               1000 non-null   float64\n",
            " 28  mfcc5_var                1000 non-null   float64\n",
            " 29  mfcc6_mean               1000 non-null   float64\n",
            " 30  mfcc6_var                1000 non-null   float64\n",
            " 31  mfcc7_mean               1000 non-null   float64\n",
            " 32  mfcc7_var                1000 non-null   float64\n",
            " 33  mfcc8_mean               1000 non-null   float64\n",
            " 34  mfcc8_var                1000 non-null   float64\n",
            " 35  mfcc9_mean               1000 non-null   float64\n",
            " 36  mfcc9_var                1000 non-null   float64\n",
            " 37  mfcc10_mean              1000 non-null   float64\n",
            " 38  mfcc10_var               1000 non-null   float64\n",
            " 39  mfcc11_mean              1000 non-null   float64\n",
            " 40  mfcc11_var               1000 non-null   float64\n",
            " 41  mfcc12_mean              1000 non-null   float64\n",
            " 42  mfcc12_var               1000 non-null   float64\n",
            " 43  mfcc13_mean              1000 non-null   float64\n",
            " 44  mfcc13_var               1000 non-null   float64\n",
            " 45  mfcc14_mean              1000 non-null   float64\n",
            " 46  mfcc14_var               1000 non-null   float64\n",
            " 47  mfcc15_mean              1000 non-null   float64\n",
            " 48  mfcc15_var               1000 non-null   float64\n",
            " 49  mfcc16_mean              1000 non-null   float64\n",
            " 50  mfcc16_var               1000 non-null   float64\n",
            " 51  mfcc17_mean              1000 non-null   float64\n",
            " 52  mfcc17_var               1000 non-null   float64\n",
            " 53  mfcc18_mean              1000 non-null   float64\n",
            " 54  mfcc18_var               1000 non-null   float64\n",
            " 55  mfcc19_mean              1000 non-null   float64\n",
            " 56  mfcc19_var               1000 non-null   float64\n",
            " 57  mfcc20_mean              1000 non-null   float64\n",
            " 58  mfcc20_var               1000 non-null   float64\n",
            " 59  label                    1000 non-null   object \n",
            "dtypes: float64(57), int64(1), object(2)\n",
            "memory usage: 468.9+ KB\n"
          ]
        }
      ]
    },
    {
      "cell_type": "code",
      "source": [
        "df.isnull().sum()"
      ],
      "metadata": {
        "colab": {
          "base_uri": "https://localhost:8080/",
          "height": 1000
        },
        "id": "uZOC7z8yE6Dj",
        "outputId": "bde0a97b-0f54-4985-d5fc-22d423db0a61"
      },
      "execution_count": 6,
      "outputs": [
        {
          "output_type": "execute_result",
          "data": {
            "text/plain": [
              "filename                   0\n",
              "length                     0\n",
              "chroma_stft_mean           0\n",
              "chroma_stft_var            0\n",
              "rms_mean                   0\n",
              "rms_var                    0\n",
              "spectral_centroid_mean     0\n",
              "spectral_centroid_var      0\n",
              "spectral_bandwidth_mean    0\n",
              "spectral_bandwidth_var     0\n",
              "rolloff_mean               0\n",
              "rolloff_var                0\n",
              "zero_crossing_rate_mean    0\n",
              "zero_crossing_rate_var     0\n",
              "harmony_mean               0\n",
              "harmony_var                0\n",
              "perceptr_mean              0\n",
              "perceptr_var               0\n",
              "tempo                      0\n",
              "mfcc1_mean                 0\n",
              "mfcc1_var                  0\n",
              "mfcc2_mean                 0\n",
              "mfcc2_var                  0\n",
              "mfcc3_mean                 0\n",
              "mfcc3_var                  0\n",
              "mfcc4_mean                 0\n",
              "mfcc4_var                  0\n",
              "mfcc5_mean                 0\n",
              "mfcc5_var                  0\n",
              "mfcc6_mean                 0\n",
              "mfcc6_var                  0\n",
              "mfcc7_mean                 0\n",
              "mfcc7_var                  0\n",
              "mfcc8_mean                 0\n",
              "mfcc8_var                  0\n",
              "mfcc9_mean                 0\n",
              "mfcc9_var                  0\n",
              "mfcc10_mean                0\n",
              "mfcc10_var                 0\n",
              "mfcc11_mean                0\n",
              "mfcc11_var                 0\n",
              "mfcc12_mean                0\n",
              "mfcc12_var                 0\n",
              "mfcc13_mean                0\n",
              "mfcc13_var                 0\n",
              "mfcc14_mean                0\n",
              "mfcc14_var                 0\n",
              "mfcc15_mean                0\n",
              "mfcc15_var                 0\n",
              "mfcc16_mean                0\n",
              "mfcc16_var                 0\n",
              "mfcc17_mean                0\n",
              "mfcc17_var                 0\n",
              "mfcc18_mean                0\n",
              "mfcc18_var                 0\n",
              "mfcc19_mean                0\n",
              "mfcc19_var                 0\n",
              "mfcc20_mean                0\n",
              "mfcc20_var                 0\n",
              "label                      0\n",
              "dtype: int64"
            ],
            "text/html": [
              "<div>\n",
              "<style scoped>\n",
              "    .dataframe tbody tr th:only-of-type {\n",
              "        vertical-align: middle;\n",
              "    }\n",
              "\n",
              "    .dataframe tbody tr th {\n",
              "        vertical-align: top;\n",
              "    }\n",
              "\n",
              "    .dataframe thead th {\n",
              "        text-align: right;\n",
              "    }\n",
              "</style>\n",
              "<table border=\"1\" class=\"dataframe\">\n",
              "  <thead>\n",
              "    <tr style=\"text-align: right;\">\n",
              "      <th></th>\n",
              "      <th>0</th>\n",
              "    </tr>\n",
              "  </thead>\n",
              "  <tbody>\n",
              "    <tr>\n",
              "      <th>filename</th>\n",
              "      <td>0</td>\n",
              "    </tr>\n",
              "    <tr>\n",
              "      <th>length</th>\n",
              "      <td>0</td>\n",
              "    </tr>\n",
              "    <tr>\n",
              "      <th>chroma_stft_mean</th>\n",
              "      <td>0</td>\n",
              "    </tr>\n",
              "    <tr>\n",
              "      <th>chroma_stft_var</th>\n",
              "      <td>0</td>\n",
              "    </tr>\n",
              "    <tr>\n",
              "      <th>rms_mean</th>\n",
              "      <td>0</td>\n",
              "    </tr>\n",
              "    <tr>\n",
              "      <th>rms_var</th>\n",
              "      <td>0</td>\n",
              "    </tr>\n",
              "    <tr>\n",
              "      <th>spectral_centroid_mean</th>\n",
              "      <td>0</td>\n",
              "    </tr>\n",
              "    <tr>\n",
              "      <th>spectral_centroid_var</th>\n",
              "      <td>0</td>\n",
              "    </tr>\n",
              "    <tr>\n",
              "      <th>spectral_bandwidth_mean</th>\n",
              "      <td>0</td>\n",
              "    </tr>\n",
              "    <tr>\n",
              "      <th>spectral_bandwidth_var</th>\n",
              "      <td>0</td>\n",
              "    </tr>\n",
              "    <tr>\n",
              "      <th>rolloff_mean</th>\n",
              "      <td>0</td>\n",
              "    </tr>\n",
              "    <tr>\n",
              "      <th>rolloff_var</th>\n",
              "      <td>0</td>\n",
              "    </tr>\n",
              "    <tr>\n",
              "      <th>zero_crossing_rate_mean</th>\n",
              "      <td>0</td>\n",
              "    </tr>\n",
              "    <tr>\n",
              "      <th>zero_crossing_rate_var</th>\n",
              "      <td>0</td>\n",
              "    </tr>\n",
              "    <tr>\n",
              "      <th>harmony_mean</th>\n",
              "      <td>0</td>\n",
              "    </tr>\n",
              "    <tr>\n",
              "      <th>harmony_var</th>\n",
              "      <td>0</td>\n",
              "    </tr>\n",
              "    <tr>\n",
              "      <th>perceptr_mean</th>\n",
              "      <td>0</td>\n",
              "    </tr>\n",
              "    <tr>\n",
              "      <th>perceptr_var</th>\n",
              "      <td>0</td>\n",
              "    </tr>\n",
              "    <tr>\n",
              "      <th>tempo</th>\n",
              "      <td>0</td>\n",
              "    </tr>\n",
              "    <tr>\n",
              "      <th>mfcc1_mean</th>\n",
              "      <td>0</td>\n",
              "    </tr>\n",
              "    <tr>\n",
              "      <th>mfcc1_var</th>\n",
              "      <td>0</td>\n",
              "    </tr>\n",
              "    <tr>\n",
              "      <th>mfcc2_mean</th>\n",
              "      <td>0</td>\n",
              "    </tr>\n",
              "    <tr>\n",
              "      <th>mfcc2_var</th>\n",
              "      <td>0</td>\n",
              "    </tr>\n",
              "    <tr>\n",
              "      <th>mfcc3_mean</th>\n",
              "      <td>0</td>\n",
              "    </tr>\n",
              "    <tr>\n",
              "      <th>mfcc3_var</th>\n",
              "      <td>0</td>\n",
              "    </tr>\n",
              "    <tr>\n",
              "      <th>mfcc4_mean</th>\n",
              "      <td>0</td>\n",
              "    </tr>\n",
              "    <tr>\n",
              "      <th>mfcc4_var</th>\n",
              "      <td>0</td>\n",
              "    </tr>\n",
              "    <tr>\n",
              "      <th>mfcc5_mean</th>\n",
              "      <td>0</td>\n",
              "    </tr>\n",
              "    <tr>\n",
              "      <th>mfcc5_var</th>\n",
              "      <td>0</td>\n",
              "    </tr>\n",
              "    <tr>\n",
              "      <th>mfcc6_mean</th>\n",
              "      <td>0</td>\n",
              "    </tr>\n",
              "    <tr>\n",
              "      <th>mfcc6_var</th>\n",
              "      <td>0</td>\n",
              "    </tr>\n",
              "    <tr>\n",
              "      <th>mfcc7_mean</th>\n",
              "      <td>0</td>\n",
              "    </tr>\n",
              "    <tr>\n",
              "      <th>mfcc7_var</th>\n",
              "      <td>0</td>\n",
              "    </tr>\n",
              "    <tr>\n",
              "      <th>mfcc8_mean</th>\n",
              "      <td>0</td>\n",
              "    </tr>\n",
              "    <tr>\n",
              "      <th>mfcc8_var</th>\n",
              "      <td>0</td>\n",
              "    </tr>\n",
              "    <tr>\n",
              "      <th>mfcc9_mean</th>\n",
              "      <td>0</td>\n",
              "    </tr>\n",
              "    <tr>\n",
              "      <th>mfcc9_var</th>\n",
              "      <td>0</td>\n",
              "    </tr>\n",
              "    <tr>\n",
              "      <th>mfcc10_mean</th>\n",
              "      <td>0</td>\n",
              "    </tr>\n",
              "    <tr>\n",
              "      <th>mfcc10_var</th>\n",
              "      <td>0</td>\n",
              "    </tr>\n",
              "    <tr>\n",
              "      <th>mfcc11_mean</th>\n",
              "      <td>0</td>\n",
              "    </tr>\n",
              "    <tr>\n",
              "      <th>mfcc11_var</th>\n",
              "      <td>0</td>\n",
              "    </tr>\n",
              "    <tr>\n",
              "      <th>mfcc12_mean</th>\n",
              "      <td>0</td>\n",
              "    </tr>\n",
              "    <tr>\n",
              "      <th>mfcc12_var</th>\n",
              "      <td>0</td>\n",
              "    </tr>\n",
              "    <tr>\n",
              "      <th>mfcc13_mean</th>\n",
              "      <td>0</td>\n",
              "    </tr>\n",
              "    <tr>\n",
              "      <th>mfcc13_var</th>\n",
              "      <td>0</td>\n",
              "    </tr>\n",
              "    <tr>\n",
              "      <th>mfcc14_mean</th>\n",
              "      <td>0</td>\n",
              "    </tr>\n",
              "    <tr>\n",
              "      <th>mfcc14_var</th>\n",
              "      <td>0</td>\n",
              "    </tr>\n",
              "    <tr>\n",
              "      <th>mfcc15_mean</th>\n",
              "      <td>0</td>\n",
              "    </tr>\n",
              "    <tr>\n",
              "      <th>mfcc15_var</th>\n",
              "      <td>0</td>\n",
              "    </tr>\n",
              "    <tr>\n",
              "      <th>mfcc16_mean</th>\n",
              "      <td>0</td>\n",
              "    </tr>\n",
              "    <tr>\n",
              "      <th>mfcc16_var</th>\n",
              "      <td>0</td>\n",
              "    </tr>\n",
              "    <tr>\n",
              "      <th>mfcc17_mean</th>\n",
              "      <td>0</td>\n",
              "    </tr>\n",
              "    <tr>\n",
              "      <th>mfcc17_var</th>\n",
              "      <td>0</td>\n",
              "    </tr>\n",
              "    <tr>\n",
              "      <th>mfcc18_mean</th>\n",
              "      <td>0</td>\n",
              "    </tr>\n",
              "    <tr>\n",
              "      <th>mfcc18_var</th>\n",
              "      <td>0</td>\n",
              "    </tr>\n",
              "    <tr>\n",
              "      <th>mfcc19_mean</th>\n",
              "      <td>0</td>\n",
              "    </tr>\n",
              "    <tr>\n",
              "      <th>mfcc19_var</th>\n",
              "      <td>0</td>\n",
              "    </tr>\n",
              "    <tr>\n",
              "      <th>mfcc20_mean</th>\n",
              "      <td>0</td>\n",
              "    </tr>\n",
              "    <tr>\n",
              "      <th>mfcc20_var</th>\n",
              "      <td>0</td>\n",
              "    </tr>\n",
              "    <tr>\n",
              "      <th>label</th>\n",
              "      <td>0</td>\n",
              "    </tr>\n",
              "  </tbody>\n",
              "</table>\n",
              "</div><br><label><b>dtype:</b> int64</label>"
            ]
          },
          "metadata": {},
          "execution_count": 6
        }
      ]
    },
    {
      "cell_type": "code",
      "source": [
        "X=df.drop(columns=['filename','label'])\n",
        "y=df['label']"
      ],
      "metadata": {
        "id": "EZ6ftjuYE9bb"
      },
      "execution_count": 7,
      "outputs": []
    },
    {
      "cell_type": "code",
      "source": [
        "from sklearn.preprocessing import LabelEncoder\n",
        "\n",
        "# Apply Label Encoding to the target variable 'y'\n",
        "label_encoder = LabelEncoder()\n",
        "y_encoded = label_encoder.fit_transform(y)\n",
        "\n",
        "print(\"Original labels:\", y.unique())\n",
        "print(\"Encoded labels:\", label_encoder.classes_)\n",
        "print(\"Encoded y (first 5 values):\", y_encoded[:5])\n",
        "\n"
      ],
      "metadata": {
        "colab": {
          "base_uri": "https://localhost:8080/"
        },
        "id": "Dqfu3zsqFByS",
        "outputId": "8914d9b5-9f15-44e5-bf36-8a559338ac1d"
      },
      "execution_count": 9,
      "outputs": [
        {
          "output_type": "stream",
          "name": "stdout",
          "text": [
            "Original labels: ['blues' 'classical' 'country' 'disco' 'hiphop' 'jazz' 'metal' 'pop'\n",
            " 'reggae' 'rock']\n",
            "Encoded labels: ['blues' 'classical' 'country' 'disco' 'hiphop' 'jazz' 'metal' 'pop'\n",
            " 'reggae' 'rock']\n",
            "Encoded y (first 5 values): [0 0 0 0 0]\n"
          ]
        }
      ]
    },
    {
      "cell_type": "code",
      "source": [
        "from sklearn.preprocessing import StandardScaler\n",
        "\n",
        "# Apply StandardScaler to the features\n",
        "scaler = StandardScaler()\n",
        "X_scaled = scaler.fit_transform(X)\n",
        "\n",
        "# Display the first 5 rows of the scaled features\n",
        "print(\"Scaled X (first 5 rows):\")\n",
        "display(X_scaled[:5])"
      ],
      "metadata": {
        "colab": {
          "base_uri": "https://localhost:8080/",
          "height": 1000
        },
        "id": "1bS6qybYFG1O",
        "outputId": "6b68ddf8-d367-4231-ba54-7b7014dbc197"
      },
      "execution_count": 10,
      "outputs": [
        {
          "output_type": "stream",
          "name": "stdout",
          "text": [
            "Scaled X (first 5 rows):\n"
          ]
        },
        {
          "output_type": "display_data",
          "data": {
            "text/plain": [
              "array([[-0.13282213, -0.35013678,  0.31258717, -0.01068969, -0.06185589,\n",
              "        -0.5835852 , -0.84831131, -0.45640248, -0.53104201, -0.48647252,\n",
              "        -0.66193361, -0.49204509, -0.73434937,  0.19050282, -0.37499162,\n",
              "         0.37275672,  0.00432643,  0.12536307,  0.30847037, -0.42744458,\n",
              "         0.70309345, -0.93639809, -0.47269061, -0.81084363,  0.36466458,\n",
              "        -0.59684161, -0.42732103, -0.06423578,  0.33717421, -0.55597237,\n",
              "        -0.86315362, -0.8344325 ,  0.49951802, -0.46959533, -0.63770406,\n",
              "        -0.16118663,  0.40925862, -0.49971511, -0.33836791, -0.36147796,\n",
              "         0.64538476, -0.53441001,  0.18219014, -0.80434978,  0.79228723,\n",
              "        -0.70309227, -0.26555766, -0.38652827, -0.08639575, -0.24611385,\n",
              "         0.50046241, -0.78026476, -0.23704039, -0.64317667,  0.00672291,\n",
              "        -0.30059734,  0.60406407, -0.51298758],\n",
              "       [-0.13282213, -0.46248155,  1.11757233, -0.53285232, -0.18682068,\n",
              "        -0.93851571, -0.23419449, -0.38685162,  0.79625194, -0.64868145,\n",
              "         0.79582332, -1.13809848, -0.50914238,  0.30034631, -0.63882094,\n",
              "         0.20132674, -0.40124236, -1.82321065, -0.62915912,  1.45049807,\n",
              "         0.78035534, -0.33410658,  0.82451842,  0.36419697, -0.02490342,\n",
              "         0.3792334 ,  0.33173019,  1.04776764,  0.58113628,  0.42730354,\n",
              "        -0.34536782,  1.44733504,  1.26711285,  1.32488508, -0.37508241,\n",
              "         1.96435523,  0.52571972,  0.61623181,  0.0683089 ,  0.77716224,\n",
              "         0.13476998,  0.84412928,  0.41577497, -0.08924642,  0.48707508,\n",
              "         0.24361582, -0.43990346, -0.30842429, -0.04810196, -0.15917505,\n",
              "         0.71137095, -0.06930444, -0.05498165, -0.45345621,  0.54480563,\n",
              "        -0.40708699,  0.42412706, -0.53842129],\n",
              "       [-0.13282213, -0.18422456, -0.13770124,  0.67997762, -0.08409294,\n",
              "        -0.90688477, -0.78169378, -0.94066287, -0.63091574, -0.9715916 ,\n",
              "        -0.74440573, -0.65361491, -0.65497038,  0.21866676,  0.32642047,\n",
              "         0.34755938,  0.27513201,  1.48649913,  0.53654201, -0.1548587 ,\n",
              "         1.30582023, -0.45143359, -0.93052389, -0.19688239, -0.27665836,\n",
              "        -0.65723606, -1.05111943, -0.18775999,  0.94064235, -0.76976917,\n",
              "        -0.85912602, -0.16078562,  0.14541559,  0.44788995, -0.57846732,\n",
              "        -0.58567161,  0.25071106, -0.37653618, -1.04390205, -0.46620189,\n",
              "         0.19657655, -0.12850992, -0.666723  , -0.22592281, -0.57110848,\n",
              "        -0.20483106, -1.10034665, -0.77589229,  0.28482489, -0.5962434 ,\n",
              "        -0.82751602, -0.44809053, -0.60098294, -0.32951927, -0.29593404,\n",
              "        -0.52729705, -0.29618888, -0.8749539 ],\n",
              "       [-0.13282213,  0.31963905,  0.9906593 ,  0.15480969,  0.90702875,\n",
              "        -1.58142857, -0.71209466, -1.22825626,  0.30456512, -1.51638972,\n",
              "        -0.2465302 , -1.68190142, -0.84824299,  0.21768808,  0.55930446,\n",
              "         0.35216717, -0.45526261, -1.99933712, -0.54972663,  0.63543947,\n",
              "         1.61380456, -0.57050301,  0.67265151, -0.7356285 , -0.56635329,\n",
              "        -0.53520876,  0.23873802,  0.92962991, -0.03375621, -0.00639885,\n",
              "         0.02989604,  0.6774797 , -0.07962084, -0.16879444,  0.75302446,\n",
              "         0.08985985,  0.05140609, -0.28378951,  0.41393884,  0.90999471,\n",
              "         0.23949989, -0.62616709,  0.37549449, -0.33413042, -0.57156885,\n",
              "        -0.0718552 ,  0.20498582, -0.33116299, -0.08024855, -0.48284251,\n",
              "         0.14215346, -0.37137029,  0.0334272 , -0.76759143,  0.45540867,\n",
              "        -0.77974379, -0.60288066, -0.84450844],\n",
              "       [-0.13282213, -0.85907669,  0.19416316, -0.60016501, -0.20590889,\n",
              "        -0.51254239, -0.3151783 , -0.9397698 , -0.50446265, -0.63010747,\n",
              "        -0.19051711, -0.05147735, -0.34150406,  0.20698187, -0.66331824,\n",
              "         0.35620847, -0.39651288,  0.583851  , -0.15836329,  0.52268916,\n",
              "         0.85151472,  0.33466616, -1.23006137, -0.4686187 , -0.84918918,\n",
              "        -0.23232394, -2.56513911,  1.6071932 , -0.31952864,  0.11103749,\n",
              "        -1.83416153, -0.39591555, -0.91993724,  0.8889885 , -0.57965023,\n",
              "         1.05147892, -0.82216689,  0.48868172, -1.03724105,  0.12338191,\n",
              "        -1.08538378,  0.54462542, -0.34659777,  0.65435243, -1.86473213,\n",
              "         0.17945661, -1.08708337,  0.38125499, -1.23861562,  0.75131752,\n",
              "        -0.32721962,  0.37762   , -0.36837542, -0.29369594, -0.55301626,\n",
              "        -0.08938298, -2.76600855, -0.3302874 ]])"
            ]
          },
          "metadata": {}
        }
      ]
    },
    {
      "cell_type": "code",
      "source": [
        "from sklearn.model_selection import train_test_split\n",
        "\n",
        "# Split the data into training and testing sets\n",
        "X_train, X_test, y_train, y_test = train_test_split(X_scaled, y_encoded, test_size=0.2, random_state=42)\n",
        "\n",
        "print(\"X_train shape:\", X_train.shape)\n",
        "print(\"X_test shape:\", X_test.shape)\n",
        "print(\"y_train shape:\", y_train.shape)\n",
        "print(\"y_test shape:\", y_test.shape)"
      ],
      "metadata": {
        "colab": {
          "base_uri": "https://localhost:8080/"
        },
        "id": "q-HKnR-TFJ3v",
        "outputId": "f4ff6708-e93f-45a1-b62d-9742eb0a8d11"
      },
      "execution_count": 11,
      "outputs": [
        {
          "output_type": "stream",
          "name": "stdout",
          "text": [
            "X_train shape: (800, 58)\n",
            "X_test shape: (200, 58)\n",
            "y_train shape: (800,)\n",
            "y_test shape: (200,)\n"
          ]
        }
      ]
    },
    {
      "cell_type": "markdown",
      "source": [
        "Train random forest model"
      ],
      "metadata": {
        "id": "F_v3ooVxFW0m"
      }
    },
    {
      "cell_type": "code",
      "source": [
        "\n",
        "from sklearn.ensemble import RandomForestClassifier\n",
        "\n",
        "# Instantiate and train the Random Forest model\n",
        "rf_model = RandomForestClassifier(n_estimators=100, random_state=42)\n",
        "rf_model.fit(X_train, y_train)\n",
        "\n",
        "print(\"Random Forest model trained successfully!\")"
      ],
      "metadata": {
        "colab": {
          "base_uri": "https://localhost:8080/"
        },
        "id": "-nZvcrLEFbHm",
        "outputId": "3f6c3350-50f4-4194-f129-9477eadefe3b"
      },
      "execution_count": 12,
      "outputs": [
        {
          "output_type": "stream",
          "name": "stdout",
          "text": [
            "Random Forest model trained successfully!\n"
          ]
        }
      ]
    },
    {
      "cell_type": "markdown",
      "source": [
        "Train two other models\n"
      ],
      "metadata": {
        "id": "L038rja9FgEh"
      }
    },
    {
      "cell_type": "code",
      "source": [
        "\n",
        "from sklearn.linear_model import LogisticRegression\n",
        "from sklearn.neighbors import KNeighborsClassifier\n",
        "\n",
        "# Instantiate and train the Logistic Regression model\n",
        "lr_model = LogisticRegression(max_iter=1000, random_state=42)\n",
        "lr_model.fit(X_train, y_train)\n",
        "\n",
        "print(\"Logistic Regression model trained successfully!\")\n",
        "\n",
        "# Instantiate and train the K-Nearest Neighbors model\n",
        "knn_model = KNeighborsClassifier(n_neighbors=5)\n",
        "knn_model.fit(X_train, y_train)\n",
        "\n",
        "print(\"K-Nearest Neighbors model trained successfully!\")"
      ],
      "metadata": {
        "colab": {
          "base_uri": "https://localhost:8080/"
        },
        "id": "pWBqylFKFeaB",
        "outputId": "71317d3c-3608-4d4c-b94d-65d4d1ab9499"
      },
      "execution_count": 13,
      "outputs": [
        {
          "output_type": "stream",
          "name": "stdout",
          "text": [
            "Logistic Regression model trained successfully!\n",
            "K-Nearest Neighbors model trained successfully!\n"
          ]
        }
      ]
    },
    {
      "cell_type": "markdown",
      "source": [
        "Make predictions\n"
      ],
      "metadata": {
        "id": "OJHcYQfaFoDZ"
      }
    },
    {
      "cell_type": "code",
      "source": [
        "# Use the trained Random Forest model to make predictions\n",
        "rf_predictions = rf_model.predict(X_test)\n",
        "\n",
        "# Use the trained Logistic Regression model to make predictions\n",
        "lr_predictions = lr_model.predict(X_test)\n",
        "\n",
        "# Use the trained K-Nearest Neighbors model to make predictions\n",
        "knn_predictions = knn_model.predict(X_test)\n",
        "\n",
        "print(\"Predictions made successfully for all models.\")"
      ],
      "metadata": {
        "colab": {
          "base_uri": "https://localhost:8080/"
        },
        "id": "N3yMc5VyFmrJ",
        "outputId": "94306369-9c7d-4a02-afe1-23a2329dcacd"
      },
      "execution_count": 14,
      "outputs": [
        {
          "output_type": "stream",
          "name": "stdout",
          "text": [
            "Predictions made successfully for all models.\n"
          ]
        }
      ]
    },
    {
      "cell_type": "markdown",
      "source": [
        "Evaluate models\n"
      ],
      "metadata": {
        "id": "iIb_tE5jFtrU"
      }
    },
    {
      "cell_type": "code",
      "source": [
        "from sklearn.metrics import accuracy_score, confusion_matrix\n",
        "\n",
        "# Evaluate Random Forest model\n",
        "rf_accuracy = accuracy_score(y_test, rf_predictions)\n",
        "rf_conf_matrix = confusion_matrix(y_test, rf_predictions)\n",
        "\n",
        "print(\"Random Forest Model:\")\n",
        "print(f\"Accuracy: {rf_accuracy}\")\n",
        "print(\"Confusion Matrix:\")\n",
        "display(rf_conf_matrix)\n",
        "\n",
        "# Evaluate Logistic Regression model\n",
        "lr_accuracy = accuracy_score(y_test, lr_predictions)\n",
        "lr_conf_matrix = confusion_matrix(y_test, lr_predictions)\n",
        "\n",
        "print(\"\\nLogistic Regression Model:\")\n",
        "print(f\"Accuracy: {lr_accuracy}\")\n",
        "print(\"Confusion Matrix:\")\n",
        "display(lr_conf_matrix)\n",
        "\n",
        "# Evaluate K-Nearest Neighbors model\n",
        "knn_accuracy = accuracy_score(y_test, knn_predictions)\n",
        "knn_conf_matrix = confusion_matrix(y_test, knn_predictions)\n",
        "\n",
        "print(\"\\nK-Nearest Neighbors Model:\")\n",
        "print(f\"Accuracy: {knn_accuracy}\")\n",
        "print(\"Confusion Matrix:\")\n",
        "display(knn_conf_matrix)"
      ],
      "metadata": {
        "colab": {
          "base_uri": "https://localhost:8080/",
          "height": 729
        },
        "id": "GLoloW5dFtH5",
        "outputId": "e6c44601-c58b-415f-abe7-226572e3c09e"
      },
      "execution_count": 15,
      "outputs": [
        {
          "output_type": "stream",
          "name": "stdout",
          "text": [
            "Random Forest Model:\n",
            "Accuracy: 0.755\n",
            "Confusion Matrix:\n"
          ]
        },
        {
          "output_type": "display_data",
          "data": {
            "text/plain": [
              "array([[17,  0,  0,  0,  0,  0,  1,  0,  0,  2],\n",
              "       [ 0, 13,  0,  0,  0,  0,  0,  0,  0,  0],\n",
              "       [ 6,  0, 16,  0,  0,  1,  0,  0,  0,  4],\n",
              "       [ 0,  0,  0, 15,  5,  0,  0,  1,  0,  0],\n",
              "       [ 0,  0,  0,  1, 13,  0,  0,  0,  1,  0],\n",
              "       [ 1,  0,  0,  0,  0, 20,  0,  0,  0,  1],\n",
              "       [ 0,  0,  0,  1,  0,  0, 24,  0,  0,  0],\n",
              "       [ 0,  0,  0,  0,  0,  0,  0,  9,  4,  0],\n",
              "       [ 2,  0,  1,  0,  3,  0,  1,  1, 14,  1],\n",
              "       [ 1,  0,  4,  1,  1,  0,  2,  1,  1, 10]])"
            ]
          },
          "metadata": {}
        },
        {
          "output_type": "stream",
          "name": "stdout",
          "text": [
            "\n",
            "Logistic Regression Model:\n",
            "Accuracy: 0.71\n",
            "Confusion Matrix:\n"
          ]
        },
        {
          "output_type": "display_data",
          "data": {
            "text/plain": [
              "array([[13,  0,  1,  0,  0,  1,  1,  0,  2,  2],\n",
              "       [ 0, 13,  0,  0,  0,  0,  0,  0,  0,  0],\n",
              "       [ 5,  0, 18,  0,  0,  0,  0,  0,  0,  4],\n",
              "       [ 0,  0,  2, 11,  3,  0,  0,  0,  2,  3],\n",
              "       [ 1,  0,  0,  0, 11,  1,  0,  0,  2,  0],\n",
              "       [ 2,  0,  0,  1,  0, 19,  0,  0,  0,  0],\n",
              "       [ 1,  0,  1,  0,  1,  0, 22,  0,  0,  0],\n",
              "       [ 0,  0,  1,  0,  0,  0,  0, 11,  1,  0],\n",
              "       [ 2,  0,  1,  2,  1,  0,  2,  1, 11,  3],\n",
              "       [ 2,  0,  1,  1,  2,  0,  0,  1,  1, 13]])"
            ]
          },
          "metadata": {}
        },
        {
          "output_type": "stream",
          "name": "stdout",
          "text": [
            "\n",
            "K-Nearest Neighbors Model:\n",
            "Accuracy: 0.645\n",
            "Confusion Matrix:\n"
          ]
        },
        {
          "output_type": "display_data",
          "data": {
            "text/plain": [
              "array([[11,  0,  3,  0,  0,  0,  1,  0,  1,  4],\n",
              "       [ 0, 11,  0,  0,  0,  2,  0,  0,  0,  0],\n",
              "       [ 1,  1, 21,  0,  1,  1,  0,  0,  1,  1],\n",
              "       [ 2,  0,  2, 14,  1,  0,  1,  1,  0,  0],\n",
              "       [ 0,  0,  0,  2, 10,  0,  0,  1,  2,  0],\n",
              "       [ 0,  2,  3,  2,  0, 14,  0,  0,  0,  1],\n",
              "       [ 0,  0,  0,  4,  0,  0, 20,  0,  0,  1],\n",
              "       [ 1,  0,  1,  1,  0,  1,  0,  8,  1,  0],\n",
              "       [ 1,  0,  2,  3,  5,  0,  1,  1, 10,  0],\n",
              "       [ 3,  1,  4,  1,  0,  0,  0,  1,  1, 10]])"
            ]
          },
          "metadata": {}
        }
      ]
    },
    {
      "cell_type": "markdown",
      "source": [
        "Compare results\n"
      ],
      "metadata": {
        "id": "nDoissPQF0jp"
      }
    },
    {
      "cell_type": "code",
      "source": [
        "print(\"--- Model Performance Comparison ---\")\n",
        "\n",
        "print(\"\\nAccuracy Scores:\")\n",
        "print(f\"Random Forest: {rf_accuracy:.4f}\")\n",
        "print(f\"Logistic Regression: {lr_accuracy:.4f}\")\n",
        "print(f\"K-Nearest Neighbors: {knn_accuracy:.4f}\")\n",
        "\n",
        "print(\"\\n--- Confusion Matrices ---\")\n",
        "\n",
        "print(\"\\nRandom Forest Confusion Matrix:\")\n",
        "display(rf_conf_matrix)\n",
        "\n",
        "print(\"\\nLogistic Regression Confusion Matrix:\")\n",
        "display(lr_conf_matrix)\n",
        "\n",
        "print(\"\\nK-Nearest Neighbors Confusion Matrix:\")\n",
        "display(knn_conf_matrix)"
      ],
      "metadata": {
        "colab": {
          "base_uri": "https://localhost:8080/",
          "height": 781
        },
        "id": "K-en6elLF2rl",
        "outputId": "3508fe7b-c74d-433c-cfa5-ce223a39bba3"
      },
      "execution_count": 16,
      "outputs": [
        {
          "output_type": "stream",
          "name": "stdout",
          "text": [
            "--- Model Performance Comparison ---\n",
            "\n",
            "Accuracy Scores:\n",
            "Random Forest: 0.7550\n",
            "Logistic Regression: 0.7100\n",
            "K-Nearest Neighbors: 0.6450\n",
            "\n",
            "--- Confusion Matrices ---\n",
            "\n",
            "Random Forest Confusion Matrix:\n"
          ]
        },
        {
          "output_type": "display_data",
          "data": {
            "text/plain": [
              "array([[17,  0,  0,  0,  0,  0,  1,  0,  0,  2],\n",
              "       [ 0, 13,  0,  0,  0,  0,  0,  0,  0,  0],\n",
              "       [ 6,  0, 16,  0,  0,  1,  0,  0,  0,  4],\n",
              "       [ 0,  0,  0, 15,  5,  0,  0,  1,  0,  0],\n",
              "       [ 0,  0,  0,  1, 13,  0,  0,  0,  1,  0],\n",
              "       [ 1,  0,  0,  0,  0, 20,  0,  0,  0,  1],\n",
              "       [ 0,  0,  0,  1,  0,  0, 24,  0,  0,  0],\n",
              "       [ 0,  0,  0,  0,  0,  0,  0,  9,  4,  0],\n",
              "       [ 2,  0,  1,  0,  3,  0,  1,  1, 14,  1],\n",
              "       [ 1,  0,  4,  1,  1,  0,  2,  1,  1, 10]])"
            ]
          },
          "metadata": {}
        },
        {
          "output_type": "stream",
          "name": "stdout",
          "text": [
            "\n",
            "Logistic Regression Confusion Matrix:\n"
          ]
        },
        {
          "output_type": "display_data",
          "data": {
            "text/plain": [
              "array([[13,  0,  1,  0,  0,  1,  1,  0,  2,  2],\n",
              "       [ 0, 13,  0,  0,  0,  0,  0,  0,  0,  0],\n",
              "       [ 5,  0, 18,  0,  0,  0,  0,  0,  0,  4],\n",
              "       [ 0,  0,  2, 11,  3,  0,  0,  0,  2,  3],\n",
              "       [ 1,  0,  0,  0, 11,  1,  0,  0,  2,  0],\n",
              "       [ 2,  0,  0,  1,  0, 19,  0,  0,  0,  0],\n",
              "       [ 1,  0,  1,  0,  1,  0, 22,  0,  0,  0],\n",
              "       [ 0,  0,  1,  0,  0,  0,  0, 11,  1,  0],\n",
              "       [ 2,  0,  1,  2,  1,  0,  2,  1, 11,  3],\n",
              "       [ 2,  0,  1,  1,  2,  0,  0,  1,  1, 13]])"
            ]
          },
          "metadata": {}
        },
        {
          "output_type": "stream",
          "name": "stdout",
          "text": [
            "\n",
            "K-Nearest Neighbors Confusion Matrix:\n"
          ]
        },
        {
          "output_type": "display_data",
          "data": {
            "text/plain": [
              "array([[11,  0,  3,  0,  0,  0,  1,  0,  1,  4],\n",
              "       [ 0, 11,  0,  0,  0,  2,  0,  0,  0,  0],\n",
              "       [ 1,  1, 21,  0,  1,  1,  0,  0,  1,  1],\n",
              "       [ 2,  0,  2, 14,  1,  0,  1,  1,  0,  0],\n",
              "       [ 0,  0,  0,  2, 10,  0,  0,  1,  2,  0],\n",
              "       [ 0,  2,  3,  2,  0, 14,  0,  0,  0,  1],\n",
              "       [ 0,  0,  0,  4,  0,  0, 20,  0,  0,  1],\n",
              "       [ 1,  0,  1,  1,  0,  1,  0,  8,  1,  0],\n",
              "       [ 1,  0,  2,  3,  5,  0,  1,  1, 10,  0],\n",
              "       [ 3,  1,  4,  1,  0,  0,  0,  1,  1, 10]])"
            ]
          },
          "metadata": {}
        }
      ]
    },
    {
      "cell_type": "code",
      "source": [
        "import os\n",
        "import cv2\n",
        "import numpy as np\n",
        "\n",
        "# Define the path to the images directory\n",
        "images_path = os.path.join(path, 'Data', 'images_original')\n",
        "\n",
        "# Create lists to store images and labels\n",
        "images = []\n",
        "labels = []\n",
        "\n",
        "# Iterate through each genre folder\n",
        "for genre_folder in os.listdir(images_path):\n",
        "    genre_path = os.path.join(images_path, genre_folder)\n",
        "    if os.path.isdir(genre_path):\n",
        "        # Iterate through each image in the genre folder\n",
        "        for image_file in os.listdir(genre_path):\n",
        "            image_path = os.path.join(genre_path, image_file)\n",
        "            # Read the image\n",
        "            img = cv2.imread(image_path)\n",
        "            # Append the image and label\n",
        "            images.append(img)\n",
        "            labels.append(genre_folder)\n",
        "\n",
        "print(f\"Loaded {len(images)} images with labels.\")\n",
        ""
      ],
      "metadata": {
        "colab": {
          "base_uri": "https://localhost:8080/"
        },
        "id": "TKhwweMxF8il",
        "outputId": "f8a2e78b-f668-4394-f21c-6d16126b0006"
      },
      "execution_count": 17,
      "outputs": [
        {
          "output_type": "stream",
          "name": "stdout",
          "text": [
            "Loaded 999 images with labels.\n"
          ]
        }
      ]
    },
    {
      "cell_type": "code",
      "source": [
        "import matplotlib.pyplot as plt\n",
        "\n",
        "# Display the first image\n",
        "plt.imshow(cv2.cvtColor(images[0], cv2.COLOR_BGR2RGB))\n",
        "plt.title(labels[0])\n",
        "plt.axis('off')\n",
        "plt.show()"
      ],
      "metadata": {
        "colab": {
          "base_uri": "https://localhost:8080/",
          "height": 389
        },
        "id": "rfUV-JrSF-hr",
        "outputId": "a9178df8-3cf8-49e9-d8b5-a0cbc71c2ff8"
      },
      "execution_count": 18,
      "outputs": [
        {
          "output_type": "display_data",
          "data": {
            "text/plain": [
              "<Figure size 640x480 with 1 Axes>"
            ],
            "image/png": "[encoded data removed]"
          },
          "metadata": {}
        }
      ]
    },
    {
      "cell_type": "code",
      "source": [
        "\n",
        "import tensorflow as tf\n",
        "from tensorflow.keras import layers, models\n",
        "from sklearn.model_selection import train_test_split\n",
        "import numpy as np\n",
        "import pathlib\n",
        "\n",
        "# 1) Paths\n",
        "data_dir = images_path # Corrected from image_path to images_path\n",
        "batch_size = 32\n",
        "img_size = (288, 432)          # matches original size\n",
        "seed = 123\n",
        "\n",
        "# 2) Train / validation split (80/20)\n",
        "train_ds = tf.keras.preprocessing.image_dataset_from_directory(\n",
        "    data_dir,\n",
        "    validation_split=0.2,\n",
        "    subset=\"training\",\n",
        "    seed=seed,\n",
        "    image_size=img_size,\n",
        "    batch_size=batch_size)\n",
        "\n",
        "val_ds = tf.keras.preprocessing.image_dataset_from_directory(\n",
        "    data_dir,\n",
        "    validation_split=0.2,\n",
        "    subset=\"validation\",\n",
        "    seed=seed,\n",
        "    image_size=img_size,\n",
        "    batch_size=batch_size)\n",
        "\n",
        "# 3) Prefetch for speed\n",
        "AUTOTUNE = tf.data.AUTOTUNE\n",
        "train_ds = train_ds.prefetch(buffer_size=AUTOTUNE)\n",
        "val_ds   = val_ds.prefetch(buffer_size=AUTOTUNE)\n",
        "\n",
        "# 4) CNN model\n",
        "num_classes = 10\n",
        "model = models.Sequential([\n",
        "    layers.Rescaling(1./255, input_shape=(*img_size, 3)),\n",
        "    layers.Conv2D(32, 3, activation='relu'),\n",
        "    layers.MaxPooling2D(),\n",
        "    layers.Conv2D(64, 3, activation='relu'),\n",
        "    layers.MaxPooling2D(),\n",
        "    layers.Conv2D(64, 3, activation='relu'),\n",
        "    layers.GlobalAveragePooling2D(),\n",
        "    layers.Dense(128, activation='relu'),\n",
        "    layers.Dropout(0.5),\n",
        "    layers.Dense(num_classes, activation='softmax')\n",
        "])\n",
        "\n",
        "model.compile(optimizer='adam',\n",
        "              loss='sparse_categorical_crossentropy',\n",
        "              metrics=['accuracy'])\n",
        "\n",
        "# 5) Train\n",
        "epochs = 50\n",
        "history = model.fit(train_ds,\n",
        "                    validation_data=val_ds,\n",
        "                    epochs=epochs)\n",
        "\n",
        "# 6) Evaluate\n",
        "val_loss, val_acc = model.evaluate(val_ds)\n",
        "print(f\"Validation accuracy: {val_acc:.3f}\")"
      ],
      "metadata": {
        "colab": {
          "base_uri": "https://localhost:8080/"
        },
        "id": "mpD5GpJ6GC8a",
        "outputId": "19a2bae1-1e23-446a-c8b3-585ca65813bb"
      },
      "execution_count": null,
      "outputs": [
        {
          "metadata": {
            "tags": null
          },
          "name": "stdout",
          "output_type": "stream",
          "text": [
            "Found 999 files belonging to 10 classes.\n",
            "Using 800 files for training.\n",
            "Found 999 files belonging to 10 classes.\n",
            "Using 199 files for validation.\n",
            "Epoch 1/50\n"
          ]
        },
        {
          "metadata": {
            "tags": null
          },
          "name": "stderr",
          "output_type": "stream",
          "text": [
            "/usr/local/lib/python3.12/dist-packages/keras/src/layers/preprocessing/tf_data_layer.py:19: UserWarning: Do not pass an `input_shape`/`input_dim` argument to a layer. When using Sequential models, prefer using an `Input(shape)` object as the first layer in the model instead.\n",
            "  super().__init__(**kwargs)\n"
          ]
        },
        {
          "output_type": "stream",
          "name": "stdout",
          "text": [
            "\u001b[1m25/25\u001b[0m \u001b[32m━━━━━━━━━━━━━━━━━━━━\u001b[0m\u001b[37m\u001b[0m \u001b[1m194s\u001b[0m 8s/step - accuracy: 0.1071 - loss: 2.3063 - val_accuracy: 0.1156 - val_loss: 2.3018\n",
            "Epoch 2/50\n",
            "\u001b[1m25/25\u001b[0m \u001b[32m━━━━━━━━━━━━━━━━━━━━\u001b[0m\u001b[37m\u001b[0m \u001b[1m200s\u001b[0m 8s/step - accuracy: 0.0910 - loss: 2.2986 - val_accuracy: 0.2161 - val_loss: 2.2863\n",
            "Epoch 3/50\n",
            "\u001b[1m25/25\u001b[0m \u001b[32m━━━━━━━━━━━━━━━━━━━━\u001b[0m\u001b[37m\u001b[0m \u001b[1m196s\u001b[0m 8s/step - accuracy: 0.1385 - loss: 2.2706 - val_accuracy: 0.2060 - val_loss: 2.2278\n",
            "Epoch 4/50\n",
            "\u001b[1m25/25\u001b[0m \u001b[32m━━━━━━━━━━━━━━━━━━━━\u001b[0m\u001b[37m\u001b[0m \u001b[1m203s\u001b[0m 8s/step - accuracy: 0.2103 - loss: 2.1621 - val_accuracy: 0.2161 - val_loss: 2.0337\n",
            "Epoch 5/50\n",
            "\u001b[1m25/25\u001b[0m \u001b[32m━━━━━━━━━━━━━━━━━━━━\u001b[0m\u001b[37m\u001b[0m \u001b[1m200s\u001b[0m 8s/step - accuracy: 0.2447 - loss: 2.0519 - val_accuracy: 0.3015 - val_loss: 1.9164\n",
            "Epoch 6/50\n",
            "\u001b[1m25/25\u001b[0m \u001b[32m━━━━━━━━━━━━━━━━━━━━\u001b[0m\u001b[37m\u001b[0m \u001b[1m189s\u001b[0m 8s/step - accuracy: 0.2503 - loss: 1.9260 - val_accuracy: 0.3015 - val_loss: 1.8603\n",
            "Epoch 7/50\n",
            "\u001b[1m 1/25\u001b[0m \u001b[37m━━━━━━━━━━━━━━━━━━━━\u001b[0m \u001b[1m8:31\u001b[0m 21s/step - accuracy: 0.3750 - loss: 1.9077"
          ]
        }
      ]
    }
  ]
}